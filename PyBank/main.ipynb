{
 "cells": [
  {
   "cell_type": "markdown",
   "metadata": {},
   "source": [
    "Import dependencies"
   ]
  },
  {
   "cell_type": "code",
   "execution_count": 1,
   "metadata": {},
   "outputs": [],
   "source": [
    "\n",
    "from pathlib import Path\n",
    "import csv"
   ]
  },
  {
   "cell_type": "markdown",
   "metadata": {},
   "source": [
    "Initialize Variables"
   ]
  },
  {
   "cell_type": "code",
   "execution_count": 2,
   "metadata": {},
   "outputs": [],
   "source": [
    "\n",
    "totalMonths = 0 # Variable to hold value of total no. of months\n",
    "totalAmount = 0 # Variable to hold value of total amount of profit/loss\n",
    "average = 0 # Variable to average of profit/loss\n",
    "count = 0 # Variable for loop iterator \n",
    "changeAggregator = 0 # Variable to hold value of sum of changes between each month\n",
    "maxProfit = 0 # Variable to hold value of maximum profit in a month\n",
    "maxLoss = 0  # Variable to hold value of maximum loss in a month\n",
    "maxProfitMonth = '' # Variable to hold value for month with maximum profit\n",
    "maxLossMonth = '' # Variable to hold value for month with maximum loss\n",
    "changeList = [] # List to hold differences of each month"
   ]
  },
  {
   "cell_type": "markdown",
   "metadata": {},
   "source": [
    "Read File"
   ]
  },
  {
   "cell_type": "code",
   "execution_count": 3,
   "metadata": {},
   "outputs": [],
   "source": [
    "# Set filepath for Input file\n",
    "filePath = './input/budget_data.csv'\n"
   ]
  },
  {
   "cell_type": "markdown",
   "metadata": {},
   "source": [
    "Loop through each row of file and apply logic"
   ]
  },
  {
   "cell_type": "code",
   "execution_count": 4,
   "metadata": {},
   "outputs": [],
   "source": [
    "# Open input file using filePath to read csv file\n",
    "with open(filePath, 'r') as file:\n",
    "\n",
    "    # Pass in csv file to csv.reader() function\n",
    "    csvReader = csv.reader(file, delimiter=',')\n",
    "    csv_header = next(csvReader) # Go to next row since first row is header\n",
    "\n",
    "    # Read each row of data one by one\n",
    "    for row in csvReader:\n",
    "        \n",
    "        totalMonths = totalMonths + 1\n",
    "        totalAmount = totalAmount + int(row[1])\n",
    "        if count == 0:           \n",
    "            count = count + 1\n",
    "        else:\n",
    "            # Append difference b/w 2 months to a list\n",
    "            changeList.append(int(row[1]) - int(prevReading))\n",
    "            # If difference is greater than  maxProfit, set maxProfit to this value. Also set the maxProfitMonth as the month of this value\n",
    "            if changeList[count-1] > maxProfit:\n",
    "                maxProfit = changeList[count-1]\n",
    "                maxProfitMonth = row[0]\n",
    "            # Else if difference is less than  maxLoss, set maxLoss to this value. Also set the maxLossMonth as the month of this value\n",
    "            elif changeList[count-1] < maxLoss:\n",
    "                maxLoss = changeList[count-1]\n",
    "                maxLossMonth = row[0]\n",
    "            count = count + 1\n",
    "\n",
    "        prevReading = row[1]\n",
    "\n",
    "# Loop through change list and sum all the values            \n",
    "for record in changeList:\n",
    "    changeAggregator = changeAggregator + record\n",
    "\n",
    "# Calculate total average\n",
    "average = totalAmount/totalMonths\n",
    "\n",
    "# Calculate average change \n",
    "averageChange = changeAggregator/len(changeList)\n",
    "averageChange = round(averageChange, 2) # Round average change to 2 decimal value"
   ]
  },
  {
   "cell_type": "markdown",
   "metadata": {},
   "source": [
    "Set contents for output file and also print the contents"
   ]
  },
  {
   "cell_type": "code",
   "execution_count": 5,
   "metadata": {},
   "outputs": [
    {
     "name": "stdout",
     "output_type": "stream",
     "text": [
      "Financial Analysis\n",
      "----------------------------\n",
      "Total Months: 86\n",
      "Total: $38382578\n",
      "Average  Change: $-2315.12\n",
      "Greatest Increase in Profits: Feb-2012 ($1926159)\n",
      "Greatest Decrease in Profits: Sep-2013 ($-2196167)\n"
     ]
    }
   ],
   "source": [
    "# Set contents for output file\n",
    "contents = f'Financial Analysis\\n----------------------------\\nTotal Months: {totalMonths}\\nTotal: ${totalAmount}\\nAverage  Change: ${averageChange}\\nGreatest Increase in Profits: {maxProfitMonth} (${maxProfit})\\nGreatest Decrease in Profits: {maxLossMonth} (${maxLoss})'\n",
    "print(contents)"
   ]
  },
  {
   "cell_type": "markdown",
   "metadata": {},
   "source": [
    "Write contents to file"
   ]
  },
  {
   "cell_type": "code",
   "execution_count": 6,
   "metadata": {},
   "outputs": [],
   "source": [
    "# Set filepath for Output file\n",
    "filePath = './output/result.txt'\n",
    "\n",
    "# Open output file using filePath to write\n",
    "with open(filePath, 'w') as file:\n",
    "    file.write(contents)\n"
   ]
  },
  {
   "cell_type": "code",
   "execution_count": null,
   "metadata": {},
   "outputs": [],
   "source": [
    "\n"
   ]
  }
 ],
 "metadata": {
  "interpreter": {
   "hash": "e4267c5d3a6a29f32e769bc4fbcb72fc997027d7815e15d0d6acc197055bfaad"
  },
  "kernelspec": {
   "display_name": "Python 3.7.11 ('dev')",
   "language": "python",
   "name": "python3"
  },
  "language_info": {
   "codemirror_mode": {
    "name": "ipython",
    "version": 3
   },
   "file_extension": ".py",
   "mimetype": "text/x-python",
   "name": "python",
   "nbconvert_exporter": "python",
   "pygments_lexer": "ipython3",
   "version": "3.7.11"
  },
  "orig_nbformat": 4
 },
 "nbformat": 4,
 "nbformat_minor": 2
}
