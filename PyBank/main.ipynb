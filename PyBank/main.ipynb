{
 "cells": [
  {
   "cell_type": "code",
   "execution_count": 63,
   "metadata": {},
   "outputs": [],
   "source": [
    "# Import dependencies\n",
    "from pathlib import Path\n",
    "import csv"
   ]
  },
  {
   "cell_type": "code",
   "execution_count": 64,
   "metadata": {},
   "outputs": [],
   "source": [
    "# Initialize Variables\n",
    "totalMonths = 0\n",
    "totalAmount = 0\n",
    "average = 0\n",
    "count = 0\n",
    "averageAggregator = 0\n",
    "maxProfit = 0\n",
    "maxLoss = 0\n",
    "maxProfitMonth = ''\n",
    "maxLossMonth = ''\n",
    "changeList = []"
   ]
  },
  {
   "cell_type": "code",
   "execution_count": 65,
   "metadata": {},
   "outputs": [],
   "source": [
    "# Set filepath for Input file\n",
    "filePath = './input/budget_data.csv'\n",
    "\n",
    "# Open input file using filePath to read csv file\n",
    "with open(filePath, 'r') as file:\n",
    "\n",
    "    # Pass in csv file to csv.reader() function\n",
    "    csvReader = csv.reader(file, delimiter=',')\n",
    "    csv_header = next(csvReader) # Go to next row since first row is header\n",
    "\n",
    "    # Read each row of data one by one\n",
    "    for row in csvReader:\n",
    "        \n",
    "        totalMonths = totalMonths + 1\n",
    "        totalAmount = totalAmount + int(row[1])\n",
    "        if count == 0:           \n",
    "            count = count + 1\n",
    "        else:\n",
    "            changeList.append(int(row[1]) - int(prevReading))\n",
    "            if changeList[count-1] > maxProfit:\n",
    "                maxProfit = changeList[count-1]\n",
    "                maxProfitMonth = row[0]\n",
    "            elif changeList[count-1] < maxLoss:\n",
    "                maxLoss = changeList[count-1]\n",
    "                maxLossMonth = row[0]\n",
    "            count = count + 1\n",
    "\n",
    "        prevReading = row[1]\n",
    "             \n",
    "for record in changeList:\n",
    "    averageAggregator = averageAggregator + record\n",
    "\n",
    "\n",
    "average = totalAmount/totalMonths\n",
    "averageChange = averageAggregator/len(changeList)\n",
    "averageChange = round(averageChange, 2)\n"
   ]
  },
  {
   "cell_type": "code",
   "execution_count": 66,
   "metadata": {},
   "outputs": [
    {
     "name": "stdout",
     "output_type": "stream",
     "text": [
      "Financial Analysis\n",
      "----------------------------\n",
      "Total Months: 86\n",
      "Total: $38382578\n",
      "Average  Change: $-2315.12\n",
      "Greatest Increase in Profits: Feb-2012 ($1926159)\n",
      "Greatest Decrease in Profits: Sep-2013 ($-2196167)\n"
     ]
    }
   ],
   "source": [
    "# Set contents for output file\n",
    "contents = f'Financial Analysis\\n----------------------------\\nTotal Months: {totalMonths}\\nTotal: ${totalAmount}\\nAverage  Change: ${averageChange}\\nGreatest Increase in Profits: {maxProfitMonth} (${maxProfit})\\nGreatest Decrease in Profits: {maxLossMonth} (${maxLoss})'\n",
    "print(contents)"
   ]
  },
  {
   "cell_type": "code",
   "execution_count": 67,
   "metadata": {},
   "outputs": [],
   "source": [
    "# Set filepath for Output file\n",
    "filePath = './output/result.txt'\n",
    "\n",
    "# Open output file using filePath to write\n",
    "with open(filePath, 'w') as file:\n",
    "    file.write(contents)\n"
   ]
  },
  {
   "cell_type": "code",
   "execution_count": null,
   "metadata": {},
   "outputs": [],
   "source": [
    "\n"
   ]
  }
 ],
 "metadata": {
  "interpreter": {
   "hash": "e4267c5d3a6a29f32e769bc4fbcb72fc997027d7815e15d0d6acc197055bfaad"
  },
  "kernelspec": {
   "display_name": "dev",
   "language": "python",
   "name": "dev"
  },
  "language_info": {
   "codemirror_mode": {
    "name": "ipython",
    "version": 3
   },
   "file_extension": ".py",
   "mimetype": "text/x-python",
   "name": "python",
   "nbconvert_exporter": "python",
   "pygments_lexer": "ipython3",
   "version": "3.7.11"
  },
  "orig_nbformat": 4
 },
 "nbformat": 4,
 "nbformat_minor": 2
}
