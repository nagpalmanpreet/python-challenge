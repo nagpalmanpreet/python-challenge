{
 "cells": [
  {
   "cell_type": "code",
   "execution_count": 21,
   "metadata": {},
   "outputs": [],
   "source": [
    "# Import dependencies\n",
    "from pathlib import Path\n",
    "import csv"
   ]
  },
  {
   "cell_type": "code",
   "execution_count": 22,
   "metadata": {},
   "outputs": [],
   "source": [
    "# Initialize Variables\n",
    "totalMonths = 0\n",
    "totalAmount = 0\n",
    "average = 0\n",
    "greatestIncrease = []\n",
    "greatestDecrease = []"
   ]
  },
  {
   "cell_type": "code",
   "execution_count": 23,
   "metadata": {},
   "outputs": [],
   "source": [
    "# Set filepath for Input file\n",
    "filePath = './input/budget_data.csv'\n",
    "\n",
    "# Open input file using filePath to read csv file\n",
    "with open(filePath, 'r') as file:\n",
    "\n",
    "    # Pass in csv file to csv.reader() function\n",
    "    csvReader = csv.reader(file, delimiter=',')\n",
    "    csv_header = next(csvReader) # Go to next row since first row is header\n",
    "\n",
    "    # Read each row of data one by one\n",
    "    for row in csvReader:\n",
    "        totalMonths = totalMonths + 1\n",
    "        totalAmount = totalAmount + int(row[1])\n",
    "\n",
    "\n",
    "average = totalAmount/totalMonths"
   ]
  },
  {
   "cell_type": "code",
   "execution_count": null,
   "metadata": {},
   "outputs": [],
   "source": [
    "# Set contents for output file\n",
    "contents = f'Financial Analysis\\n----------------------------\\nTotal Months: {totalMonths}\\nTotal: ${totalAmount}'"
   ]
  },
  {
   "cell_type": "code",
   "execution_count": null,
   "metadata": {},
   "outputs": [],
   "source": [
    "# Set filepath for Output file\n",
    "#filePath = './output/result.txt'"
   ]
  },
  {
   "cell_type": "code",
   "execution_count": 24,
   "metadata": {},
   "outputs": [
    {
     "name": "stdout",
     "output_type": "stream",
     "text": [
      "Total Months: 86\n",
      "Total: $38382578\n",
      "Average  Change: 446309.0465116279\n"
     ]
    }
   ],
   "source": [
    "#print(f'Total Months: {totalMonths}')\n",
    "#print(f'Total: ${totalAmount}')\n",
    "#print(f'Average  Change: {average}')\n",
    "print(contents)"
   ]
  }
 ],
 "metadata": {
  "interpreter": {
   "hash": "e4267c5d3a6a29f32e769bc4fbcb72fc997027d7815e15d0d6acc197055bfaad"
  },
  "kernelspec": {
   "display_name": "dev",
   "language": "python",
   "name": "dev"
  },
  "language_info": {
   "codemirror_mode": {
    "name": "ipython",
    "version": 3
   },
   "file_extension": ".py",
   "mimetype": "text/x-python",
   "name": "python",
   "nbconvert_exporter": "python",
   "pygments_lexer": "ipython3",
   "version": "3.7.11"
  },
  "orig_nbformat": 4
 },
 "nbformat": 4,
 "nbformat_minor": 2
}
